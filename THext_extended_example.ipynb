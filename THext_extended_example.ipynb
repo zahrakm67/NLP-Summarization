{
  "nbformat": 4,
  "nbformat_minor": 0,
  "metadata": {
    "colab": {
      "provenance": [],
      "machine_shape": "hm",
      "gpuType": "T4"
    },
    "kernelspec": {
      "name": "python3",
      "display_name": "Python 3"
    },
    "language_info": {
      "name": "python"
    },
    "accelerator": "GPU"
  },
  "cells": [
    {
      "cell_type": "code",
      "execution_count": null,
      "metadata": {
        "id": "9UX8lRJib1a0"
      },
      "outputs": [],
      "source": [
        "!pip install thext\n",
        "!python -m spacy download en_core_web_lg\n",
        "!pip install datasets evaluate transformers rouge-score nltk\n",
        "!pip install transformers[torch]\n",
        "!pip install rouge_score"
      ]
    },
    {
      "cell_type": "code",
      "source": [
        "from google.colab import drive\n",
        "drive.mount(\"/content/drive\")"
      ],
      "metadata": {
        "colab": {
          "base_uri": "https://localhost:8080/"
        },
        "id": "V0v_2AGkc1D1",
        "outputId": "5f940491-188d-4063-c9a0-1f96fb6737e4"
      },
      "execution_count": null,
      "outputs": [
        {
          "output_type": "stream",
          "name": "stdout",
          "text": [
            "Mounted at /content/drive\n"
          ]
        }
      ]
    },
    {
      "cell_type": "code",
      "source": [
        "%cd /content/drive/MyDrive/THExt"
      ],
      "metadata": {
        "colab": {
          "base_uri": "https://localhost:8080/"
        },
        "id": "Wco9cHe5c7fR",
        "outputId": "278f263d-15ab-4f73-9591-d669ec9330ab"
      },
      "execution_count": 24,
      "outputs": [
        {
          "output_type": "stream",
          "name": "stdout",
          "text": [
            "/content/drive/MyDrive/THExt\n"
          ]
        }
      ]
    },
    {
      "cell_type": "markdown",
      "source": [
        "#Context Builder"
      ],
      "metadata": {
        "id": "tdDg5n5kzcrl"
      }
    },
    {
      "cell_type": "code",
      "source": [
        "from thext import AbstractContextBuilder\n",
        "import nltk\n",
        "from evaluate import load\n",
        "\n",
        "\n",
        "nltk.download('punkt')\n",
        "\n",
        "dataset_name='xsum'           # xsum, cnn_dailymail\n",
        "model_checkpoint='t5-small'   # t5-small, allenai/led-base-16384\n",
        "\n",
        "\n",
        "builder = AbstractContextBuilder.AbstractContextBuilder(\n",
        "    dataset_name=dataset_name,\n",
        "    model_checkpoint=model_checkpoint,\n",
        "    max_input_length=1024,\n",
        "    max_target_length=256,\n",
        "    epochs=20,\n",
        "    batch_size=4,\n",
        "    output_dir='/content/drive/MyDrive/THExt'\n",
        ")\n",
        "\n",
        "builder.train()"
      ],
      "metadata": {
        "id": "zZq7D--EeJA1"
      },
      "execution_count": null,
      "outputs": []
    },
    {
      "cell_type": "markdown",
      "source": [
        "# Finetune with Context\n",
        "\n",
        "\n",
        "\n"
      ],
      "metadata": {
        "id": "RV66WYbeu0ac"
      }
    },
    {
      "cell_type": "code",
      "source": [
        "from datasets import load_dataset\n",
        "from thext import SentenceRankerPlus\n",
        "from thext import RedundancyManager\n",
        "from thext import Highlighter\n",
        "from thext import FinetuneWithContext\n",
        "\n",
        "import nltk\n",
        "nltk.download('punkt')\n",
        "\n",
        "model_name_or_path = \"morenolq/thext-cs-scibert\"\n",
        "base_model_name = \"morenolq/thext-cs-scibert\"\n",
        "context_builder_model=\"saeedehj/t5-small-finetune-xsum\"\n",
        "\n",
        "dataset_name=\"xsum\"\n",
        "raw_dataset=load_dataset(dataset_name)\n",
        "\n",
        "ft = FinetuneWithContext.FinetuneWithContext(raw_dataset=raw_dataset,\n",
        "                        dataset_name=dataset_name,\n",
        "                        model_name_or_path=model_name_or_path,\n",
        "                        base_model_name=base_model_name,\n",
        "                        context_builder_model=context_builder_model,\n",
        "                        checkpoint_dir='/content/drive/MyDrive/model')\n",
        "ft.finetune()\n"
      ],
      "metadata": {
        "id": "o0Gj7YmPe7Fa"
      },
      "execution_count": null,
      "outputs": []
    },
    {
      "cell_type": "markdown",
      "source": [
        "#Evaluation\n"
      ],
      "metadata": {
        "id": "jzbOo2Z30ZMY"
      }
    },
    {
      "cell_type": "code",
      "source": [
        "import nltk\n",
        "\n",
        "nltk.download('punkt')"
      ],
      "metadata": {
        "colab": {
          "base_uri": "https://localhost:8080/"
        },
        "id": "MJtHkGE4DmfX",
        "outputId": "f373d87b-d84f-40b0-a09f-8d57e57e844c"
      },
      "execution_count": 25,
      "outputs": [
        {
          "output_type": "stream",
          "name": "stderr",
          "text": [
            "[nltk_data] Downloading package punkt to /root/nltk_data...\n",
            "[nltk_data]   Package punkt is already up-to-date!\n"
          ]
        },
        {
          "output_type": "execute_result",
          "data": {
            "text/plain": [
              "True"
            ]
          },
          "metadata": {},
          "execution_count": 25
        }
      ]
    },
    {
      "cell_type": "code",
      "source": [
        "from thext import SentenceRankerPlus\n",
        "from thext import RedundancyManager\n",
        "from thext import Highlighter\n",
        "from thext import Evaluation\n",
        "from rouge_score import rouge_scorer\n",
        "from datasets import load_dataset\n",
        "\n",
        "\n",
        "dataset_name=\"xsum\"\n",
        "raw_dataset=load_dataset(dataset_name)\n",
        "\n",
        "base_model_name = \"morenolq/thext-cs-scibert\"\n",
        "model_name_or_path = \"check_folder_morenolq-thext-cs-scibert_1_xsum_led\"\n",
        "\n",
        "\n",
        "Evaluation.evaluate(base_model_name=base_model_name,\n",
        "                    model_name_or_path=model_name_or_path,\n",
        "                    raw_dataset=raw_dataset,\n",
        "                    dataset_name=dataset_name,\n",
        "                    context_builder_model=\"saeedehj/t5-small-finetune-xsum\")"
      ],
      "metadata": {
        "id": "Wb-47_np0dIr"
      },
      "execution_count": null,
      "outputs": []
    }
  ]
}